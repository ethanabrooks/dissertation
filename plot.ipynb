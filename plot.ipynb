{
 "cells": [
  {
   "cell_type": "code",
   "execution_count": 1,
   "metadata": {},
   "outputs": [],
   "source": [
    "import wandb\n",
    "api = wandb.Api()\n"
   ]
  },
  {
   "cell_type": "code",
   "execution_count": 2,
   "metadata": {},
   "outputs": [],
   "source": [
    "group_name = \"Sweep delta, seeds, and omit_states_actions with no walls and Q value output (run for longer).\""
   ]
  },
  {
   "cell_type": "code",
   "execution_count": 9,
   "metadata": {},
   "outputs": [
    {
     "data": {
      "text/plain": [
       "Index(['fps', 'train-n/mae', 'test-1/loss', 'test-n/values-plot 44',\n",
       "       'test-n/values-plot 97', 'epoch', 'train-n/rmse',\n",
       "       'test-n/values-plot 36', 'train-1/n', 'test-1/rmse', 'train-1/rmse',\n",
       "       'test-n/mae', '_timestamp', '_runtime', 'test-1/pair_wise_accuracy',\n",
       "       'test-1/improved_policy_value', 'train-1/mae', 'test-1/mae',\n",
       "       'train-1/loss', 'train-1/pair_wise_accuracy', 'lr', 'test-n/regret',\n",
       "       'test-1/values-plot 97', '_step', 'save_count', 'test-1/regret',\n",
       "       'test-n/loss', 'test-n/improved_policy_value', 'test-1/values-plot 36',\n",
       "       'test-n/rmse', 'test-1/values-plot 44', 'test-n/pair_wise_accuracy',\n",
       "       'train-n/pair_wise_accuracy', 'seed', 'omit_states_actions', 'delta',\n",
       "       'test-n/values-plot 168', 'test-1/values-plot 168',\n",
       "       'test-1/values-plot 65', 'test-1/values-plot 161',\n",
       "       'test-n/values-plot 65', 'test-n/values-plot 161', 'train-n/regret',\n",
       "       'train-n/improved_policy_value'],\n",
       "      dtype='object')"
      ]
     },
     "execution_count": 9,
     "metadata": {},
     "output_type": "execute_result"
    }
   ],
   "source": [
    "import pandas as pd\n",
    "runs = api.runs(\"rldl/icvi\", {\"$and\": [{\"group\": group_name}]})\n",
    "\n",
    "def generate_dfs():\n",
    "    for run in runs:\n",
    "        history = pd.DataFrame(run.history())\n",
    "        history[\"seed\"] = run.config[\"seed\"]\n",
    "        history[\"omit_states_actions\"] = run.config[\"train_data_args\"][\"omit_states_actions\"]\n",
    "        history[\"delta\"] = run.config[\"bellman_delta\"]\n",
    "        yield history\n",
    "\n",
    "orig = pd.concat(list(generate_dfs()))\n",
    "orig.columns"
   ]
  },
  {
   "cell_type": "code",
   "execution_count": 21,
   "metadata": {},
   "outputs": [],
   "source": [
    "grouped = orig.groupby('_step')['test-n/rmse'].agg(['mean', 'std'])\n",
    "grouped['test_upper'] = (grouped['mean'] + grouped['std']).clip(lower=1e6)\n",
    "grouped['test_lower'] = (grouped['mean'] - grouped['std']).clip(lower=1e6)\n",
    "merged = orig.merge(grouped[['test_upper', 'test_lower']], on='_step', how='left')\n"
   ]
  },
  {
   "cell_type": "code",
   "execution_count": 22,
   "metadata": {},
   "outputs": [],
   "source": [
    "grouped = orig.groupby('_step')['test-n/rmse'].agg(['mean', 'std'])\n",
    "grouped['train_upper'] = (grouped['mean'] + grouped['std']).clip(lower=1e6)\n",
    "grouped['train_lower'] = (grouped['mean'] - grouped['std']).clip(lower=1e6)\n",
    "merged = orig.merge(grouped[['train_upper', 'train_upper']], on='_step', how='left')"
   ]
  },
  {
   "cell_type": "code",
   "execution_count": 23,
   "metadata": {},
   "outputs": [],
   "source": [
    "renamed = merged.rename(columns={\"_step\": \"step\", \"test-n/rmse\": \"test\", \"train-n/rmse\": \"train\"})"
   ]
  },
  {
   "cell_type": "code",
   "execution_count": 24,
   "metadata": {},
   "outputs": [],
   "source": [
    "import itertools\n",
    "for (delta, omit_states_actions) in itertools.product(renamed.delta.unique(), renamed.omit_states_actions.unique()):\n",
    "    data = renamed[(renamed[\"delta\"] == delta) & (renamed[\"omit_states_actions\"] == omit_states_actions)]\n",
    "    data = data.reset_index()\n",
    "    data.to_json(f\"data/delta_{delta}_omit_states_actions_{omit_states_actions}.json\", orient=\"records\")"
   ]
  },
  {
   "cell_type": "code",
   "execution_count": null,
   "metadata": {},
   "outputs": [],
   "source": []
  }
 ],
 "metadata": {
  "kernelspec": {
   "display_name": "Python 3",
   "language": "python",
   "name": "python3"
  },
  "language_info": {
   "codemirror_mode": {
    "name": "ipython",
    "version": 3
   },
   "file_extension": ".py",
   "mimetype": "text/x-python",
   "name": "python",
   "nbconvert_exporter": "python",
   "pygments_lexer": "ipython3",
   "version": "3.10.12"
  }
 },
 "nbformat": 4,
 "nbformat_minor": 2
}
