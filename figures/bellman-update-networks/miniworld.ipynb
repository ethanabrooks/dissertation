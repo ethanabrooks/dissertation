{
 "cells": [
  {
   "cell_type": "code",
   "execution_count": 1,
   "metadata": {},
   "outputs": [],
   "source": [
    "import wandb\n",
    "api = wandb.Api()\n"
   ]
  },
  {
   "cell_type": "code",
   "execution_count": 21,
   "metadata": {},
   "outputs": [],
   "source": [
    "from pathlib import Path\n",
    "import json\n",
    "import pandas as pd\n",
    "import re\n",
    "\n",
    "def generate():\n",
    "    for path in Path('artifacts').rglob('*.json'):\n",
    "        pattern = r\"run-(\\w+)-tablereturns:v(\\d+)\"\n",
    "        with path.open() as f:\n",
    "            table = json.load(f)\n",
    "        df = pd.DataFrame(table['data'], columns=table['columns'])\n",
    "        match = re.search(pattern, str(path))\n",
    "        df['run_id'] = match.group(1)\n",
    "        df['count'] = int(match.group(2))\n",
    "        yield df\n",
    "        \n",
    "df = pd.concat(list(generate()), ignore_index=True)\n",
    "    "
   ]
  },
  {
   "cell_type": "code",
   "execution_count": 36,
   "metadata": {},
   "outputs": [],
   "source": [
    "import pandas as pd\n",
    "import seaborn as sns\n",
    "import matplotlib.pyplot as plt\n",
    "\n",
    "sns.set(style=\"whitegrid\")\n",
    "\n",
    "# Normalize 'count' for alpha values\n",
    "max_count = df['count'].max()\n",
    "\n",
    "# Create a color palette with a unique color for each run_id\n",
    "palette = sns.color_palette(\"hsv\", df['run_id'].nunique())\n",
    "\n",
    "# Plotting\n",
    "# plt.figure(figsize=(10, 6))\n",
    "for (color, run_id) in zip(palette, df['run_id'].unique()):\n",
    "    for i, count in enumerate(df['count'].unique()):\n",
    "        for idx in df['idx'].unique():\n",
    "            subset = df[(df['run_id'] == run_id) & (df['count'] == count) & (df['idx'] == idx)]\n",
    "            alpha = count / max_count / 10\n",
    "            sns.lineplot(x=\"episode\", y=\"returns\", \n",
    "                        data=subset, label=run_id, color=color, alpha=alpha)\n",
    "        \n",
    "\n",
    "plt.xlabel(\"Episode\")\n",
    "plt.ylabel(\"Returns\")\n",
    "plt.title(\"Returns per Episode for Different Runs\")\n",
    "plt.legend(title=\"Run ID\")\n",
    "plt.show()"
   ]
  },
  {
   "cell_type": "code",
   "execution_count": null,
   "metadata": {},
   "outputs": [],
   "source": []
  }
 ],
 "metadata": {
  "kernelspec": {
   "display_name": "Python 3 (ipyflow)",
   "language": "python",
   "name": "ipyflow"
  },
  "language_info": {
   "codemirror_mode": {
    "name": "ipython",
    "version": 3
   },
   "file_extension": ".py",
   "mimetype": "text/x-python",
   "name": "python",
   "nbconvert_exporter": "python",
   "pygments_lexer": "ipython3",
   "version": "3.11.6"
  }
 },
 "nbformat": 4,
 "nbformat_minor": 2
}
